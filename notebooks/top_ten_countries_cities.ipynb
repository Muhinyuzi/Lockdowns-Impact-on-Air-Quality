{
 "cells": [
  {
   "cell_type": "markdown",
   "metadata": {},
   "source": [
    "#   EDA\n",
    "## 1. Data preparation"
   ]
  },
  {
   "cell_type": "code",
   "execution_count": 1,
   "metadata": {},
   "outputs": [
    {
     "name": "stdout",
     "output_type": "stream",
     "text": [
      "<class 'pandas.core.frame.DataFrame'>\n",
      "RangeIndex: 249 entries, 0 to 248\n",
      "Data columns (total 2 columns):\n",
      " #   Column        Non-Null Count  Dtype \n",
      "---  ------        --------------  ----- \n",
      " 0   Country       248 non-null    object\n",
      " 1   Country name  249 non-null    object\n",
      "dtypes: object(2)\n",
      "memory usage: 4.0+ KB\n",
      "None\n",
      "<class 'pandas.core.frame.DataFrame'>\n",
      "Int64Index: 2323243 entries, 0 to 2323242\n",
      "Data columns (total 5 columns):\n",
      " #   Column        Dtype         \n",
      "---  ------        -----         \n",
      " 0   Date          datetime64[ns]\n",
      " 1   City          object        \n",
      " 2   Specie        object        \n",
      " 3   max           float64       \n",
      " 4   Country name  object        \n",
      "dtypes: datetime64[ns](1), float64(1), object(3)\n",
      "memory usage: 106.3+ MB\n"
     ]
    },
    {
     "data": {
      "text/html": [
       "<div>\n",
       "<style scoped>\n",
       "    .dataframe tbody tr th:only-of-type {\n",
       "        vertical-align: middle;\n",
       "    }\n",
       "\n",
       "    .dataframe tbody tr th {\n",
       "        vertical-align: top;\n",
       "    }\n",
       "\n",
       "    .dataframe thead th {\n",
       "        text-align: right;\n",
       "    }\n",
       "</style>\n",
       "<table border=\"1\" class=\"dataframe\">\n",
       "  <thead>\n",
       "    <tr style=\"text-align: right;\">\n",
       "      <th></th>\n",
       "      <th>Date</th>\n",
       "      <th>City</th>\n",
       "      <th>Specie</th>\n",
       "      <th>max</th>\n",
       "      <th>Country name</th>\n",
       "      <th>Starting Date</th>\n",
       "    </tr>\n",
       "  </thead>\n",
       "  <tbody>\n",
       "    <tr>\n",
       "      <th>0</th>\n",
       "      <td>2020-01-13</td>\n",
       "      <td>Bogotá</td>\n",
       "      <td>so2</td>\n",
       "      <td>2.8</td>\n",
       "      <td>Colombia</td>\n",
       "      <td>2020-03-25</td>\n",
       "    </tr>\n",
       "    <tr>\n",
       "      <th>1</th>\n",
       "      <td>2020-01-13</td>\n",
       "      <td>Bogotá</td>\n",
       "      <td>so2</td>\n",
       "      <td>2.8</td>\n",
       "      <td>Colombia</td>\n",
       "      <td>2020-03-25</td>\n",
       "    </tr>\n",
       "    <tr>\n",
       "      <th>2</th>\n",
       "      <td>2020-02-25</td>\n",
       "      <td>Bogotá</td>\n",
       "      <td>so2</td>\n",
       "      <td>4.1</td>\n",
       "      <td>Colombia</td>\n",
       "      <td>2020-03-25</td>\n",
       "    </tr>\n",
       "    <tr>\n",
       "      <th>3</th>\n",
       "      <td>2020-02-25</td>\n",
       "      <td>Bogotá</td>\n",
       "      <td>so2</td>\n",
       "      <td>4.1</td>\n",
       "      <td>Colombia</td>\n",
       "      <td>2020-03-25</td>\n",
       "    </tr>\n",
       "    <tr>\n",
       "      <th>4</th>\n",
       "      <td>2020-03-09</td>\n",
       "      <td>Bogotá</td>\n",
       "      <td>so2</td>\n",
       "      <td>5.4</td>\n",
       "      <td>Colombia</td>\n",
       "      <td>2020-03-25</td>\n",
       "    </tr>\n",
       "  </tbody>\n",
       "</table>\n",
       "</div>"
      ],
      "text/plain": [
       "        Date    City Specie  max Country name Starting Date\n",
       "0 2020-01-13  Bogotá    so2  2.8     Colombia    2020-03-25\n",
       "1 2020-01-13  Bogotá    so2  2.8     Colombia    2020-03-25\n",
       "2 2020-02-25  Bogotá    so2  4.1     Colombia    2020-03-25\n",
       "3 2020-02-25  Bogotá    so2  4.1     Colombia    2020-03-25\n",
       "4 2020-03-09  Bogotá    so2  5.4     Colombia    2020-03-25"
      ]
     },
     "execution_count": 1,
     "metadata": {},
     "output_type": "execute_result"
    }
   ],
   "source": [
    "import pandas as pd\n",
    "import numpy as np\n",
    "df_countries = pd.read_html('https://en.wikipedia.org/wiki/ISO_3166-1_alpha-2')[2]\n",
    "df_countries = df_countries[['Code', 'Country name (using title case)']]\n",
    "df_countries.rename(columns={'Code':'Country','Country name (using title case)':'Country name'},inplace=True)\n",
    "df_countries.to_csv ('../data/countries.csv', index = False, header=True)\n",
    "df_countries = pd.read_csv('../data/countries.csv')\n",
    "print(df_countries.info())\n",
    "\n",
    "\n",
    "df_2020Q1 = pd.read_csv('../data/waqi-covid19-airqualitydata-2020Q1.csv', skiprows=4, engine='python')\n",
    "df_2020Q2 = pd.read_csv('../data/waqi-covid19-airqualitydata-2020Q2.csv', skiprows=4, engine='python')\n",
    "df_2020Q3 = pd.read_csv('../data/waqi-covid19-airqualitydata-2020Q3.csv', skiprows=4, engine='python')\n",
    "df_2020Q4 = pd.read_csv('../data/waqi-covid19-airqualitydata-2020Q4.csv', skiprows=4, engine='python')\n",
    "df_2020 = pd.concat([df_2020Q1, df_2020Q2, df_2020Q3, df_2020Q4])\n",
    "\n",
    "df_2020['Date'] = pd.to_datetime(df_2020['Date'])\n",
    "\n",
    "\n",
    "df = pd.merge(df_2020,df_countries, on='Country')\n",
    "df = df[['Date', 'City', 'Specie', 'max', 'Country name']]\n",
    "df.info()\n",
    "df.head()\n",
    "\n",
    "df_lockdown_dates = pd.read_csv('../data/countryLockdowndates.csv', engine='python')\n",
    "df_lockdown_datesJHUMatch = pd.read_csv('../data/countryLockdowndatesJHUMatch.csv', engine='python')\n",
    "df_lockdown_dates_full = pd.concat([df_lockdown_dates, df_lockdown_datesJHUMatch])\n",
    "df_lockdown_dates_full['Date'] = pd.to_datetime(df_lockdown_dates_full['Date'])\n",
    "\n",
    "df_lockdown_dates_full.rename(columns={'Country/Region':'Country name'},inplace=True)\n",
    "df_lockdown_dates_full = df_lockdown_dates_full[['Country name','Date']]\n",
    "df_lockdown_dates_full.rename(columns={'Date':'Starting Date'},inplace=True)\n",
    "df_lockdown_dates_full.tail()\n",
    "df_final = pd.merge(df, df_lockdown_dates_full, on='Country name')\n",
    "df_final.head()"
   ]
  },
  {
   "cell_type": "markdown",
   "metadata": {},
   "source": [
    "## Some Helper Functions "
   ]
  },
  {
   "cell_type": "code",
   "execution_count": 4,
   "metadata": {},
   "outputs": [
    {
     "data": {
      "text/html": [
       "<div>\n",
       "<style scoped>\n",
       "    .dataframe tbody tr th:only-of-type {\n",
       "        vertical-align: middle;\n",
       "    }\n",
       "\n",
       "    .dataframe tbody tr th {\n",
       "        vertical-align: top;\n",
       "    }\n",
       "\n",
       "    .dataframe thead th {\n",
       "        text-align: right;\n",
       "    }\n",
       "</style>\n",
       "<table border=\"1\" class=\"dataframe\">\n",
       "  <thead>\n",
       "    <tr style=\"text-align: right;\">\n",
       "      <th></th>\n",
       "      <th>max</th>\n",
       "    </tr>\n",
       "    <tr>\n",
       "      <th>Country name</th>\n",
       "      <th></th>\n",
       "    </tr>\n",
       "  </thead>\n",
       "  <tbody>\n",
       "    <tr>\n",
       "      <th>Hong Kong</th>\n",
       "      <td>60.973469</td>\n",
       "    </tr>\n",
       "    <tr>\n",
       "      <th>Israel</th>\n",
       "      <td>55.449705</td>\n",
       "    </tr>\n",
       "    <tr>\n",
       "      <th>Turkey</th>\n",
       "      <td>41.852165</td>\n",
       "    </tr>\n",
       "    <tr>\n",
       "      <th>India</th>\n",
       "      <td>38.122695</td>\n",
       "    </tr>\n",
       "    <tr>\n",
       "      <th>Mongolia</th>\n",
       "      <td>36.864031</td>\n",
       "    </tr>\n",
       "    <tr>\n",
       "      <th>United Arab Emirates</th>\n",
       "      <td>34.776276</td>\n",
       "    </tr>\n",
       "    <tr>\n",
       "      <th>North Macedonia</th>\n",
       "      <td>34.486719</td>\n",
       "    </tr>\n",
       "    <tr>\n",
       "      <th>China</th>\n",
       "      <td>34.248367</td>\n",
       "    </tr>\n",
       "    <tr>\n",
       "      <th>Greece</th>\n",
       "      <td>30.511979</td>\n",
       "    </tr>\n",
       "    <tr>\n",
       "      <th>Italy</th>\n",
       "      <td>30.313852</td>\n",
       "    </tr>\n",
       "  </tbody>\n",
       "</table>\n",
       "</div>"
      ],
      "text/plain": [
       "                            max\n",
       "Country name                   \n",
       "Hong Kong             60.973469\n",
       "Israel                55.449705\n",
       "Turkey                41.852165\n",
       "India                 38.122695\n",
       "Mongolia              36.864031\n",
       "United Arab Emirates  34.776276\n",
       "North Macedonia       34.486719\n",
       "China                 34.248367\n",
       "Greece                30.511979\n",
       "Italy                 30.313852"
      ]
     },
     "execution_count": 4,
     "metadata": {},
     "output_type": "execute_result"
    }
   ],
   "source": [
    "# The function which returns the dataframe by filtering one specific specie\n",
    "def dataFrame_by_specie(specie):\n",
    "    df = df_final\n",
    "    df_specie = df[df['Specie']==specie]\n",
    "    df_specie = df_specie[['Date', 'City', 'Specie', 'max', 'Country name']]\n",
    "    return df_specie\n",
    "\n",
    "# The function which returns a dataframe of the top ten cities on the average_max of one specific specie \n",
    "def dataframe_top_ten_cities_by_specie(specie):\n",
    "\n",
    "    df_specie = dataFrame_by_specie(specie)\n",
    "    df_specie_byCity = df_specie.groupby('City').agg({\"max\":np.average})\n",
    "    df_specie_byCity = df_specie_byCity.sort_values(by=['max'], ascending=False)\n",
    "    df_top_ten_cities_by_specie = df_specie_byCity.head(10)    \n",
    "    return df_top_ten_cities_by_specie\n",
    "\n",
    "dataframe_top_ten_cities_by_specie('no2')\n",
    "\n",
    "\n",
    "# The function which returns a dataframe of the top ten countries on the average_max of one specific specie \n",
    "def dataframe_top_ten_countries_by_specie(specie):\n",
    "    df_specie = dataFrame_by_specie(specie)\n",
    "    df_specie_byCountry = df_specie.groupby('Country name').agg({\"max\":np.average})\n",
    "    df_specie_byCountry = df_specie_byCountry.sort_values(by=['max'], ascending=False)\n",
    "    df_top_ten_countries_by_specie = df_specie_byCountry.head(10)    \n",
    "    return df_top_ten_countries_by_specie\n",
    "\n",
    "dataframe_top_ten_countries_by_specie('no2')"
   ]
  },
  {
   "cell_type": "code",
   "execution_count": 12,
   "metadata": {},
   "outputs": [
    {
     "data": {
      "image/png": "[encoded data removed]",
      "text/plain": [
       "<Figure size 432x288 with 1 Axes>"
      ]
     },
     "metadata": {
      "needs_background": "light"
     },
     "output_type": "display_data"
    }
   ],
   "source": [
    "#import matplotlib.pyplot as plt\n",
    "df = dataframe_top_ten_cities_by_specie('no2')\n",
    "df.reset_index(inplace=True)\n",
    "ax = df.plot.bar(x='City', y='max',title='Top Ten Cities in emission of no2') "
   ]
  },
  {
   "cell_type": "code",
   "execution_count": 11,
   "metadata": {},
   "outputs": [
    {
     "data": {
      "image/png": "[encoded data removed]",
      "text/plain": [
       "<Figure size 432x288 with 1 Axes>"
      ]
     },
     "metadata": {
      "needs_background": "light"
     },
     "output_type": "display_data"
    }
   ],
   "source": [
    "#import matplotlib.pyplot as plt\n",
    "df = dataframe_top_ten_cities_by_specie('co')\n",
    "df.reset_index(inplace=True)\n",
    "ax = df.plot.bar(x='City', y='max',title='Top Ten Cities in emission of co') "
   ]
  },
  {
   "cell_type": "code",
   "execution_count": 9,
   "metadata": {},
   "outputs": [
    {
     "data": {
      "image/png": "[encoded data removed]",
      "text/plain": [
       "<Figure size 432x288 with 1 Axes>"
      ]
     },
     "metadata": {
      "needs_background": "light"
     },
     "output_type": "display_data"
    }
   ],
   "source": [
    "#import matplotlib.pyplot as plt\n",
    "df = dataframe_top_ten_countries_by_specie('no2')\n",
    "df.reset_index(inplace=True)\n",
    "ax = df.plot.bar(x='Country name', y='max',title='Top Ten Countries in emission of no2')  "
   ]
  },
  {
   "cell_type": "code",
   "execution_count": 10,
   "metadata": {},
   "outputs": [
    {
     "data": {
      "image/png": "[encoded data removed]",
      "text/plain": [
       "<Figure size 432x288 with 1 Axes>"
      ]
     },
     "metadata": {
      "needs_background": "light"
     },
     "output_type": "display_data"
    }
   ],
   "source": [
    "#import matplotlib.pyplot as plt\n",
    "df = dataframe_top_ten_countries_by_specie('co')\n",
    "df.reset_index(inplace=True)\n",
    "ax = df.plot.bar(x='Country name', y='max',title='Top Ten Countries in emission of co')  "
   ]
  },
  {
   "cell_type": "code",
   "execution_count": null,
   "metadata": {},
   "outputs": [],
   "source": []
  }
 ],
 "metadata": {
  "kernelspec": {
   "display_name": "Python 3",
   "language": "python",
   "name": "python3"
  },
  "language_info": {
   "codemirror_mode": {
    "name": "ipython",
    "version": 3
   },
   "file_extension": ".py",
   "mimetype": "text/x-python",
   "name": "python",
   "nbconvert_exporter": "python",
   "pygments_lexer": "ipython3",
   "version": "3.8.5"
  }
 },
 "nbformat": 4,
 "nbformat_minor": 4
}
