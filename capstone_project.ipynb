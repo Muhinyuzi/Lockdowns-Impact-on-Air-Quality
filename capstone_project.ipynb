{
 "cells": [
  {
   "cell_type": "code",
   "execution_count": 3,
   "metadata": {},
   "outputs": [
    {
     "name": "stdout",
     "output_type": "stream",
     "text": [
      "        Date Country      City     Specie  count   min   max  median  variance\n",
      "0 2021-07-11      CR  San José  wind-gust     24   1.3  14.0     4.5    118.83\n",
      "1 2021-04-25      CR  San José  wind-gust     24   1.8  20.3    12.4    251.58\n",
      "2 2021-05-09      CR  San José  wind-gust     24  12.1  19.5    16.4     53.70\n",
      "3 2021-07-24      CR  San José  wind-gust     24   0.7   9.6     2.5     47.86\n",
      "4 2021-01-17      CR  San José  wind-gust     24   4.8  17.5    13.0    111.79\n",
      "<class 'pandas.core.frame.DataFrame'>\n",
      "Int64Index: 507 entries, 0 to 199\n",
      "Data columns (total 5 columns):\n",
      " #   Column          Non-Null Count  Dtype         \n",
      "---  ------          --------------  -----         \n",
      " 0   Country/Region  507 non-null    object        \n",
      " 1   Province        129 non-null    object        \n",
      " 2   Date            364 non-null    datetime64[ns]\n",
      " 3   Type            441 non-null    object        \n",
      " 4   Reference       373 non-null    object        \n",
      "dtypes: datetime64[ns](1), object(4)\n",
      "memory usage: 23.8+ KB\n"
     ]
    }
   ],
   "source": [
    "import pandas as pd\n",
    "import numpy as np\n",
    "\n",
    "\n",
    "#Creating the dataframe for the year 2021\n",
    "df_2021 = pd.read_csv('data/waqi-covid19-airqualitydata-2020.csv', skiprows=4, engine='python')\n",
    "\n",
    "#Creating the dataframe for the year 2020\n",
    "df_2020Q1 = pd.read_csv('data/waqi-covid19-airqualitydata-2020Q1.csv', skiprows=4, engine='python')\n",
    "df_2020Q2 = pd.read_csv('data/waqi-covid19-airqualitydata-2020Q2.csv', skiprows=4, engine='python')\n",
    "df_2020Q3 = pd.read_csv('data/waqi-covid19-airqualitydata-2020Q3.csv', skiprows=4, engine='python')\n",
    "df_2020Q4 = pd.read_csv('data/waqi-covid19-airqualitydata-2020Q4.csv', skiprows=4, engine='python')\n",
    "df_2020 = pd.concat([df_2020Q1, df_2020Q2, df_2020Q3, df_2020Q4])\n",
    "\n",
    "#Creating the dataframe for the year 2019\n",
    "df_2019Q1 = pd.read_csv('data/waqi-covid19-airqualitydata-2019Q1.csv', skiprows=4, engine='python')\n",
    "df_2019Q2 = pd.read_csv('data/waqi-covid19-airqualitydata-2019Q2.csv', skiprows=4, engine='python')\n",
    "df_2019Q3 = pd.read_csv('data/waqi-covid19-airqualitydata-2019Q3.csv', skiprows=4, engine='python')\n",
    "df_2019Q4 = pd.read_csv('data/waqi-covid19-airqualitydata-2019Q4.csv', skiprows=4, engine='python')\n",
    "df_2019 = pd.concat([df_2019Q1, df_2019Q2, df_2019Q3, df_2019Q4])\n",
    "\n",
    "#combining all dataframes\n",
    "df_2021_2020_2019 = pd.concat([df_2021, df_2020, df_2019])\n",
    "\n",
    "#Creating the dataframe for the lockdown dates\n",
    "df_lockdown_dates = pd.read_csv('data/countryLockdowndates.csv', engine='python')\n",
    "df_lockdown_datesJHUMatch = pd.read_csv('data/countryLockdowndatesJHUMatch.csv', engine='python')\n",
    "\n",
    "#combining lockdown dates dataframes\n",
    "df_lockdown_dates_full = pd.concat([df_lockdown_dates, df_lockdown_datesJHUMatch])\n",
    "\n",
    "#putting the date column in dates format\n",
    "df_2021_2020_2019['Date'] = pd.to_datetime(df_2021_2020_2019['Date'])\n",
    "\n",
    "#putting the date column in dates format\n",
    "df_lockdown_dates_full['Date'] = pd.to_datetime(df_lockdown_dates_full['Date'])\n",
    "\n",
    "#Checking info from the dataframes\n",
    "print(df_2021_2020_2019.head())\n",
    "df_lockdown_dates_full.info()"
   ]
  },
  {
   "cell_type": "code",
   "execution_count": 4,
   "metadata": {},
   "outputs": [
    {
     "name": "stdout",
     "output_type": "stream",
     "text": [
      "['wind-gust' 'dew' 'temperature' 'humidity' 'pm25' 'pressure' 'wind-speed'\n",
      " 'so2' 'pm10' 'o3' 'no2' 'precipitation' 'co' 'wd' 'aqi' 'pm1' 'uvi'\n",
      " 'mepaqi' 'wind speed' 'wind gust' 'neph' 'pol']\n"
     ]
    },
    {
     "data": {
      "text/plain": [
       "array(['EE', 'GR', 'IN', 'NL', 'NO', 'PT', 'CA', 'RU', 'TH', 'IR', 'CZ',\n",
       "       'HU', 'JP', 'KW', 'RO', 'SA', 'DK', 'BE', 'TR', 'FR', 'MK', 'CL',\n",
       "       'AR', 'BG', 'HR', 'JO', 'MO', 'FI', 'CN', 'NZ', 'PE', 'PL', 'RE',\n",
       "       'BR', 'IT', 'MN', 'MX', 'CO', 'GB', 'AE', 'BA', 'SE', 'TW', 'GE',\n",
       "       'CH', 'AU', 'XK', 'CY', 'HK', 'IS', 'US', 'ZA', 'ES', 'PH', 'SK',\n",
       "       'VN', 'AT', 'BO', 'DE', 'IL', 'KR', 'RS', 'IE', 'KZ'], dtype=object)"
      ]
     },
     "execution_count": 4,
     "metadata": {},
     "output_type": "execute_result"
    }
   ],
   "source": [
    "#Selecting the Specie to use for the analysis\n",
    "print(df_2021_2020_2019['Specie'].unique())\n",
    "df_2021_2020_2019_no2 = df_2021_2020_2019[df_2021_2020_2019['Specie']=='no2']\n",
    "\n",
    "#Selecting the columns to use for the analysis\n",
    "df_2021_2020_2019_no2 = df_2021_2020_2019_no2[['Date', 'Country', 'median']]\n",
    "\n",
    "#Droping the null values if they exist\n",
    "df_2021_2020_2019_no2.dropna(inplace=True)\n",
    "df_2021_2020_2019_no2.set_index('Date', inplace=True)\n",
    "df_2021_2020_2019_no2['Country'].unique()"
   ]
  },
  {
   "cell_type": "code",
   "execution_count": 5,
   "metadata": {},
   "outputs": [],
   "source": [
    "#Creating a function which returns a dataframe for a specific country\n",
    "def country_df(country_name):\n",
    "    df = df_2021_2020_2019_no2[df_2021_2020_2019_no2['Country'] == country_name]\n",
    "    df = df['median']\n",
    "    return df"
   ]
  },
  {
   "cell_type": "code",
   "execution_count": 6,
   "metadata": {},
   "outputs": [
    {
     "data": {
      "text/plain": [
       "<AxesSubplot:xlabel='Date'>"
      ]
     },
     "execution_count": 6,
     "metadata": {},
     "output_type": "execute_result"
    },
    {
     "data": {
      "image/png": "[encoded data removed]",
      "text/plain": [
       "<Figure size 432x288 with 1 Axes>"
      ]
     },
     "metadata": {
      "needs_background": "light"
     },
     "output_type": "display_data"
    }
   ],
   "source": [
    "#plotting for visualization\n",
    "import matplotlib.pyplot as plt\n",
    "df_US = country_df('US')\n",
    "plt.figure()\n",
    "df_US.plot()"
   ]
  },
  {
   "cell_type": "code",
   "execution_count": 7,
   "metadata": {},
   "outputs": [
    {
     "data": {
      "text/plain": [
       "<AxesSubplot:xlabel='Date'>"
      ]
     },
     "execution_count": 7,
     "metadata": {},
     "output_type": "execute_result"
    },
    {
     "data": {
      "image/png": "[encoded data removed]",
      "text/plain": [
       "<Figure size 432x288 with 1 Axes>"
      ]
     },
     "metadata": {
      "needs_background": "light"
     },
     "output_type": "display_data"
    }
   ],
   "source": [
    "df_GB = country_df('GB')\n",
    "plt.figure()\n",
    "df_GB.plot()"
   ]
  }
 ],
 "metadata": {
  "kernelspec": {
   "display_name": "Python 3",
   "language": "python",
   "name": "python3"
  },
  "language_info": {
   "codemirror_mode": {
    "name": "ipython",
    "version": 3
   },
   "file_extension": ".py",
   "mimetype": "text/x-python",
   "name": "python",
   "nbconvert_exporter": "python",
   "pygments_lexer": "ipython3",
   "version": "3.8.5"
  }
 },
 "nbformat": 4,
 "nbformat_minor": 4
}
